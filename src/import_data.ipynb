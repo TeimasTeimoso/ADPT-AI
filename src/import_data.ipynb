{
 "cells": [
  {
   "cell_type": "code",
   "execution_count": 42,
   "metadata": {},
   "outputs": [],
   "source": [
    "import os\n",
    "import pandas as pd\n",
    "import numpy as np\n",
    "\n",
    "from utils.classifier import ClfSwitcher\n",
    "from utils.load_data import load_dataset\n",
    "from utils.pre_process import clean_text\n",
    "from utils.misc import set_missing_labels"
   ]
  },
  {
   "cell_type": "code",
   "execution_count": 43,
   "metadata": {},
   "outputs": [],
   "source": [
    "base_path = '../data/task 1'\n",
    "\n",
    "train_data_path = os.path.join(base_path, 'training_set_task1.json')\n",
    "test_data_path = os.path.join(base_path, 'test_set_task1.json')\n",
    "dev_data_path = os.path.join(base_path, 'dev_set_task1.json')"
   ]
  },
  {
   "cell_type": "code",
   "execution_count": 44,
   "metadata": {},
   "outputs": [],
   "source": [
    "X_train, y_train = load_dataset(train_data_path)\n",
    "X_test, y_test = load_dataset(test_data_path)\n",
    "X_dev, y_dev = load_dataset(dev_data_path)\n",
    "\n",
    "X_train = pd.concat([X_train, X_dev]).reset_index(drop=True)\n",
    "y_train = pd.concat([y_train, y_dev]).reset_index(drop=True)"
   ]
  },
  {
   "cell_type": "code",
   "execution_count": 45,
   "metadata": {},
   "outputs": [
    {
     "data": {
      "text/plain": [
       "((751,), (751, 20), (200,), (200, 20))"
      ]
     },
     "execution_count": 45,
     "metadata": {},
     "output_type": "execute_result"
    }
   ],
   "source": [
    "X_train = X_train['text'].apply(clean_text, strip_numbers=True)\n",
    "X_test = X_test['text'].apply(clean_text, strip_numbers=True)\n",
    "y_train.replace(np.NaN, 0, inplace=True)\n",
    "\n",
    "X_train.shape, y_train.shape, X_test.shape, y_test.shape"
   ]
  }
 ],
 "metadata": {
  "kernelspec": {
   "display_name": "adpt-yLsCzLSp-py3.8",
   "language": "python",
   "name": "python3"
  },
  "language_info": {
   "codemirror_mode": {
    "name": "ipython",
    "version": 3
   },
   "file_extension": ".py",
   "mimetype": "text/x-python",
   "name": "python",
   "nbconvert_exporter": "python",
   "pygments_lexer": "ipython3",
   "version": "3.8.10"
  },
  "orig_nbformat": 4,
  "vscode": {
   "interpreter": {
    "hash": "7a72d8dc4051dd080fc153a5760538b919c0abbb9227ab39a2d2f4f67b8d7524"
   }
  }
 },
 "nbformat": 4,
 "nbformat_minor": 2
}
